{
 "cells": [
  {
   "cell_type": "code",
   "execution_count": 42,
   "id": "2f9801be",
   "metadata": {},
   "outputs": [],
   "source": [
    "import numpy as np\n",
    "import pandas as pd\n",
    "import os\n",
    "import shutil"
   ]
  },
  {
   "cell_type": "code",
   "execution_count": 54,
   "id": "0c69790f",
   "metadata": {},
   "outputs": [
    {
     "name": "stdout",
     "output_type": "stream",
     "text": [
      "_iemocap_04M.train.csv \n",
      "\n",
      "_iemocap_01F.test.csv \n",
      "\n",
      "_iemocap_01F.train.csv \n",
      "\n",
      "_iemocap_01M.val.csv \n",
      "\n",
      "_iemocap_01M.test.csv \n",
      "\n",
      "_iemocap_01M.train.csv \n",
      "\n",
      "_iemocap_04F.train.csv \n",
      "\n",
      "_iemocap_03F.train.csv \n",
      "\n",
      "_iemocap_01F.val.csv \n",
      "\n",
      "_iemocap_03M.train.csv \n",
      "\n",
      "_iemocap_03F.test.csv \n",
      "\n",
      "_iemocap_03M.test.csv \n",
      "\n",
      "_iemocap_05F.train.csv \n",
      "\n",
      "_iemocap_05M.train.csv \n",
      "\n",
      "_iemocap_02M.val.csv \n",
      "\n",
      "_iemocap_03M.val.csv \n",
      "\n",
      "_iemocap_05F.test.csv \n",
      "\n",
      "_iemocap_05F.val.csv \n",
      "\n",
      "_iemocap_04F.val.csv \n",
      "\n",
      "_iemocap_05M.test.csv \n",
      "\n",
      "_iemocap_05M.val.csv \n",
      "\n",
      "_iemocap_04M.val.csv \n",
      "\n",
      "_iemocap_02F.test.csv \n",
      "\n",
      "_iemocap_02M.test.csv \n",
      "\n",
      "_iemocap_02F.val.csv \n",
      "\n",
      "_iemocap_03F.val.csv \n",
      "\n",
      "_iemocap_02M.train.csv \n",
      "\n",
      "_iemocap_02F.train.csv \n",
      "\n",
      "_iemocap_04F.test.csv \n",
      "\n",
      "_iemocap_04M.test.csv \n",
      "\n"
     ]
    }
   ],
   "source": [
    "csv_dir = '/Users/mengqi/Documents/ColumbiaUniversity/Spring2022/Capstone/Speech-Emotion-Recognition/allosaurus+CNN/iemocap'\n",
    "audio_dir = '/Users/mengqi/Documents/ColumbiaUniversity/Spring2022/Capstone/Librosa_GE2E/audio_eng'\n",
    "dest_dir = '/Users/mengqi/Documents/ColumbiaUniversity/Spring2022/Capstone/Librosa_GE2E/train_audio_eng/train_other_500'\n",
    "\n",
    "\n",
    "for file in os.listdir(csv_dir):\n",
    "    print(file, \"\\n\")\n",
    "    csv_file = os.path.join(csv_dir, file)\n",
    "    csv_df = pd.read_csv(csv_file)\n",
    "    csv_df.loc[-1] = np.array(csv_df.columns)\n",
    "    csv_df.index = csv_df.index + 1\n",
    "    csv_df = csv_df.sort_index()\n",
    "    \n",
    "    for i in range(csv_df.shape[0]):\n",
    "        wav_name = csv_df.iloc[i, 0].split(\"/\")[-1]\n",
    "        session = 'Session'+wav_name.split(\"_\")[0][4]\n",
    "        wav_dir = \"_\".join(wav_name.split(\"_\")[:-1])\n",
    "        audio_file = os.path.join(audio_dir, session, \"sentences\", \"wav\", wav_dir, wav_name)\n",
    "        \n",
    "        emo = csv_df.iloc[i, 1]\n",
    "        dest_loc = os.path.join(dest_dir, emo, 'wav', wav_name)\n",
    "        \n",
    "        shutil.copyfile(audio_file, dest_loc)\n",
    "\n"
   ]
  },
  {
   "cell_type": "code",
   "execution_count": 32,
   "id": "e617ff7c",
   "metadata": {},
   "outputs": [
    {
     "data": {
      "text/plain": [
       "'Session1'"
      ]
     },
     "execution_count": 32,
     "metadata": {},
     "output_type": "execute_result"
    }
   ],
   "source": [
    "name = csv_df.iloc[0, 0].split(\"/\")[-1]\n",
    "ses = 'Session'+name.split(\"_\")[0][4]\n",
    "ses"
   ]
  },
  {
   "cell_type": "code",
   "execution_count": 53,
   "id": "321d9617",
   "metadata": {},
   "outputs": [
    {
     "data": {
      "text/plain": [
       "'Ses01F_impro01'"
      ]
     },
     "execution_count": 53,
     "metadata": {},
     "output_type": "execute_result"
    }
   ],
   "source": [
    "\"_\".join(name.split(\"_\")[:-1])"
   ]
  },
  {
   "cell_type": "code",
   "execution_count": 40,
   "id": "967a078a",
   "metadata": {},
   "outputs": [
    {
     "data": {
      "text/plain": [
       "'e1'"
      ]
     },
     "execution_count": 40,
     "metadata": {},
     "output_type": "execute_result"
    }
   ],
   "source": [
    "csv_df.iloc[0, 1]"
   ]
  },
  {
   "cell_type": "code",
   "execution_count": null,
   "id": "60d0df7e",
   "metadata": {},
   "outputs": [],
   "source": []
  }
 ],
 "metadata": {
  "kernelspec": {
   "display_name": "Python 3 (ipykernel)",
   "language": "python",
   "name": "python3"
  },
  "language_info": {
   "codemirror_mode": {
    "name": "ipython",
    "version": 3
   },
   "file_extension": ".py",
   "mimetype": "text/x-python",
   "name": "python",
   "nbconvert_exporter": "python",
   "pygments_lexer": "ipython3",
   "version": "3.8.12"
  }
 },
 "nbformat": 4,
 "nbformat_minor": 5
}
